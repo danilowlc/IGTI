{
 "cells": [
  {
   "cell_type": "markdown",
   "metadata": {},
   "source": [
    "# Codigo Fornecido na aula"
   ]
  },
  {
   "cell_type": "code",
   "execution_count": 1,
   "metadata": {},
   "outputs": [
    {
     "name": "stderr",
     "output_type": "stream",
     "text": [
      "/home/danilo/anaconda3/lib/python3.7/importlib/_bootstrap.py:219: RuntimeWarning: numpy.ufunc size changed, may indicate binary incompatibility. Expected 192 from C header, got 216 from PyObject\n",
      "  return f(*args, **kwds)\n",
      "/home/danilo/anaconda3/lib/python3.7/importlib/_bootstrap.py:219: RuntimeWarning: numpy.ufunc size changed, may indicate binary incompatibility. Expected 192 from C header, got 216 from PyObject\n",
      "  return f(*args, **kwds)\n",
      "/home/danilo/anaconda3/lib/python3.7/importlib/_bootstrap.py:219: RuntimeWarning: numpy.ufunc size changed, may indicate binary incompatibility. Expected 192 from C header, got 216 from PyObject\n",
      "  return f(*args, **kwds)\n",
      "/home/danilo/anaconda3/lib/python3.7/importlib/_bootstrap.py:219: RuntimeWarning: numpy.ufunc size changed, may indicate binary incompatibility. Expected 192 from C header, got 216 from PyObject\n",
      "  return f(*args, **kwds)\n"
     ]
    }
   ],
   "source": [
    "import pandas as pd\n",
    "import numpy as np\n",
    "import matplotlib.pyplot as plt\n",
    "from scipy import stats"
   ]
  },
  {
   "cell_type": "code",
   "execution_count": 2,
   "metadata": {},
   "outputs": [],
   "source": [
    "#base de dados\n",
    "xi = [3246, 3476, 3724, 3773, 3837, 3968, 4198, 4048, 4170, 4226, 4788, 4009, 3568, 4357]\n",
    "\n",
    "#base de dados com anomalias\n",
    "xy = [6799, 3476, 3724, 3773, 3837, 3968, 4198, 4048, 4170, 4226, 4788, 4009, 3568, 4357]"
   ]
  },
  {
   "cell_type": "code",
   "execution_count": 5,
   "metadata": {},
   "outputs": [],
   "source": [
    "def print_full(x):\n",
    "    pd.set_option('display.max_rows', len(x))\n",
    "    pd.set_option('display.max_columns', len(x))\n",
    "    print(x)\n",
    "    pd.reset_option('display.max_rows')\n",
    "    pd.reset_option('display.max_columns')"
   ]
  },
  {
   "cell_type": "code",
   "execution_count": 20,
   "metadata": {},
   "outputs": [],
   "source": [
    "xi_mean = np.mean(xi)\n",
    "xy_mean = np.mean(xy)"
   ]
  },
  {
   "cell_type": "code",
   "execution_count": 21,
   "metadata": {},
   "outputs": [],
   "source": [
    "mediana_xi = np.median(xi)\n",
    "mediana_xy = np.median(xy)\n",
    "moda_xi = stats.mode(xi)\n",
    "moda_xy = stats.mode(xy)"
   ]
  },
  {
   "cell_type": "code",
   "execution_count": 22,
   "metadata": {},
   "outputs": [
    {
     "name": "stdout",
     "output_type": "stream",
     "text": [
      "Minha lista sem anomalias: [3246, 3476, 3724, 3773, 3837, 3968, 4198, 4048, 4170, 4226, 4788, 4009, 3568, 4357]\n",
      "A mediana da minha lista e: 3988.5\n",
      "A moda da minha lista e : 3246\n",
      "Minha lista com anomalias: [6799, 3476, 3724, 3773, 3837, 3968, 4198, 4048, 4170, 4226, 4788, 4009, 3568, 4357]\n",
      "A mediana da minha lista e: 4028.5\n",
      "A moda da minha lista e : 3476\n"
     ]
    }
   ],
   "source": [
    "print(f\"Minha lista sem anomalias: {xi}\")\n",
    "print(f\"A mediana da minha lista e: {mediana_xi}\")\n",
    "print(f\"A moda da minha lista e : {moda_xi.mode[0]}\")\n",
    "print(f\"Minha lista com anomalias: {xy}\")\n",
    "print(f\"A mediana da minha lista e: {mediana_xy}\")\n",
    "print(f\"A moda da minha lista e : {moda_xy.mode[0]}\")"
   ]
  },
  {
   "cell_type": "code",
   "execution_count": 23,
   "metadata": {},
   "outputs": [],
   "source": [
    "#Desvio Padrao\n",
    "xi_sd = np.std(xi, ddof=1)\n",
    "xy_sd = np.std(xy, ddof=1)\n",
    "\n",
    "#Z-score\n",
    "z_score_i = (xi - xi_mean)/xi_sd\n",
    "z_score_y = (xy - xy_mean)/xy_sd"
   ]
  },
  {
   "cell_type": "code",
   "execution_count": 24,
   "metadata": {},
   "outputs": [],
   "source": [
    "df = pd.DataFrame({'Base (sem Anomalias)':xi, 'Z-score (sem Anomalias)':z_score_i,\n",
    "                   'Base (com Anomalias)':xy, 'Z-score (com Anomalias)':z_score_y\n",
    "                  })"
   ]
  },
  {
   "cell_type": "code",
   "execution_count": 28,
   "metadata": {},
   "outputs": [],
   "source": [
    "df = df.round(2)"
   ]
  },
  {
   "cell_type": "code",
   "execution_count": 37,
   "metadata": {},
   "outputs": [
    {
     "data": {
      "text/html": [
       "<div>\n",
       "<style scoped>\n",
       "    .dataframe tbody tr th:only-of-type {\n",
       "        vertical-align: middle;\n",
       "    }\n",
       "\n",
       "    .dataframe tbody tr th {\n",
       "        vertical-align: top;\n",
       "    }\n",
       "\n",
       "    .dataframe thead th {\n",
       "        text-align: right;\n",
       "    }\n",
       "</style>\n",
       "<table border=\"1\" class=\"dataframe\">\n",
       "  <thead>\n",
       "    <tr style=\"text-align: right;\">\n",
       "      <th></th>\n",
       "      <th>Base (sem Anomalias)</th>\n",
       "      <th>Z-score (sem Anomalias)</th>\n",
       "      <th>Base (com Anomalias)</th>\n",
       "      <th>Z-score (com Anomalias)</th>\n",
       "    </tr>\n",
       "  </thead>\n",
       "  <tbody>\n",
       "    <tr>\n",
       "      <th>0</th>\n",
       "      <td>3246</td>\n",
       "      <td>-1.80</td>\n",
       "      <td>6799</td>\n",
       "      <td>3.16</td>\n",
       "    </tr>\n",
       "    <tr>\n",
       "      <th>1</th>\n",
       "      <td>3476</td>\n",
       "      <td>-1.22</td>\n",
       "      <td>3476</td>\n",
       "      <td>-0.90</td>\n",
       "    </tr>\n",
       "    <tr>\n",
       "      <th>2</th>\n",
       "      <td>3724</td>\n",
       "      <td>-0.59</td>\n",
       "      <td>3724</td>\n",
       "      <td>-0.59</td>\n",
       "    </tr>\n",
       "    <tr>\n",
       "      <th>3</th>\n",
       "      <td>3773</td>\n",
       "      <td>-0.46</td>\n",
       "      <td>3773</td>\n",
       "      <td>-0.53</td>\n",
       "    </tr>\n",
       "    <tr>\n",
       "      <th>4</th>\n",
       "      <td>3837</td>\n",
       "      <td>-0.30</td>\n",
       "      <td>3837</td>\n",
       "      <td>-0.46</td>\n",
       "    </tr>\n",
       "    <tr>\n",
       "      <th>5</th>\n",
       "      <td>3968</td>\n",
       "      <td>0.03</td>\n",
       "      <td>3968</td>\n",
       "      <td>-0.30</td>\n",
       "    </tr>\n",
       "    <tr>\n",
       "      <th>6</th>\n",
       "      <td>4198</td>\n",
       "      <td>0.61</td>\n",
       "      <td>4198</td>\n",
       "      <td>-0.01</td>\n",
       "    </tr>\n",
       "    <tr>\n",
       "      <th>7</th>\n",
       "      <td>4048</td>\n",
       "      <td>0.23</td>\n",
       "      <td>4048</td>\n",
       "      <td>-0.20</td>\n",
       "    </tr>\n",
       "    <tr>\n",
       "      <th>8</th>\n",
       "      <td>4170</td>\n",
       "      <td>0.54</td>\n",
       "      <td>4170</td>\n",
       "      <td>-0.05</td>\n",
       "    </tr>\n",
       "    <tr>\n",
       "      <th>9</th>\n",
       "      <td>4226</td>\n",
       "      <td>0.68</td>\n",
       "      <td>4226</td>\n",
       "      <td>0.02</td>\n",
       "    </tr>\n",
       "    <tr>\n",
       "      <th>10</th>\n",
       "      <td>4788</td>\n",
       "      <td>2.11</td>\n",
       "      <td>4788</td>\n",
       "      <td>0.71</td>\n",
       "    </tr>\n",
       "    <tr>\n",
       "      <th>11</th>\n",
       "      <td>4009</td>\n",
       "      <td>0.13</td>\n",
       "      <td>4009</td>\n",
       "      <td>-0.25</td>\n",
       "    </tr>\n",
       "    <tr>\n",
       "      <th>12</th>\n",
       "      <td>3568</td>\n",
       "      <td>-0.98</td>\n",
       "      <td>3568</td>\n",
       "      <td>-0.78</td>\n",
       "    </tr>\n",
       "    <tr>\n",
       "      <th>13</th>\n",
       "      <td>4357</td>\n",
       "      <td>1.01</td>\n",
       "      <td>4357</td>\n",
       "      <td>0.18</td>\n",
       "    </tr>\n",
       "  </tbody>\n",
       "</table>\n",
       "</div>"
      ],
      "text/plain": [
       "    Base (sem Anomalias)  Z-score (sem Anomalias)  Base (com Anomalias)  \\\n",
       "0                   3246                    -1.80                  6799   \n",
       "1                   3476                    -1.22                  3476   \n",
       "2                   3724                    -0.59                  3724   \n",
       "3                   3773                    -0.46                  3773   \n",
       "4                   3837                    -0.30                  3837   \n",
       "5                   3968                     0.03                  3968   \n",
       "6                   4198                     0.61                  4198   \n",
       "7                   4048                     0.23                  4048   \n",
       "8                   4170                     0.54                  4170   \n",
       "9                   4226                     0.68                  4226   \n",
       "10                  4788                     2.11                  4788   \n",
       "11                  4009                     0.13                  4009   \n",
       "12                  3568                    -0.98                  3568   \n",
       "13                  4357                     1.01                  4357   \n",
       "\n",
       "    Z-score (com Anomalias)  \n",
       "0                      3.16  \n",
       "1                     -0.90  \n",
       "2                     -0.59  \n",
       "3                     -0.53  \n",
       "4                     -0.46  \n",
       "5                     -0.30  \n",
       "6                     -0.01  \n",
       "7                     -0.20  \n",
       "8                     -0.05  \n",
       "9                      0.02  \n",
       "10                     0.71  \n",
       "11                    -0.25  \n",
       "12                    -0.78  \n",
       "13                     0.18  "
      ]
     },
     "execution_count": 37,
     "metadata": {},
     "output_type": "execute_result"
    }
   ],
   "source": [
    "df"
   ]
  },
  {
   "cell_type": "code",
   "execution_count": 31,
   "metadata": {},
   "outputs": [
    {
     "data": {
      "image/png": "[encoded data removed]",
      "text/plain": [
       "<Figure size 432x288 with 1 Axes>"
      ]
     },
     "metadata": {
      "needs_background": "light"
     },
     "output_type": "display_data"
    }
   ],
   "source": [
    "#plot da distribuicao normal\n",
    "stats.probplot(xi, dist='norm', plot=plt)\n",
    "plt.show()"
   ]
  },
  {
   "cell_type": "code",
   "execution_count": 32,
   "metadata": {},
   "outputs": [
    {
     "data": {
      "image/png": "[encoded data removed]",
      "text/plain": [
       "<Figure size 432x288 with 1 Axes>"
      ]
     },
     "metadata": {
      "needs_background": "light"
     },
     "output_type": "display_data"
    }
   ],
   "source": [
    "#plot da distribuicao normal nos dados com anomalias\n",
    "stats.probplot(xy, dist='norm', plot=plt)\n",
    "plt.show()"
   ]
  },
  {
   "cell_type": "code",
   "execution_count": 36,
   "metadata": {},
   "outputs": [
    {
     "data": {
      "image/png": "[encoded data removed]",
      "text/plain": [
       "<Figure size 432x288 with 1 Axes>"
      ]
     },
     "metadata": {
      "needs_background": "light"
     },
     "output_type": "display_data"
    },
    {
     "data": {
      "image/png": "[encoded data removed]",
      "text/plain": [
       "<Figure size 432x288 with 1 Axes>"
      ]
     },
     "metadata": {
      "needs_background": "light"
     },
     "output_type": "display_data"
    }
   ],
   "source": [
    "#Boxplot dos Dados sem anomalia\n",
    "fig_xi = plt.figure(1, figsize=(6,4))\n",
    "axi = fig_xi.add_subplot(111)\n",
    "bp_xi = axi.boxplot(xi)\n",
    "\n",
    "#Boxplot dos Dados com anomalia\n",
    "fig_xy = plt.figure(2, figsize=(6,4))\n",
    "axy = fig_xy.add_subplot(111)\n",
    "bp_xy = axy.boxplot(xy)"
   ]
  },
  {
   "cell_type": "code",
   "execution_count": null,
   "metadata": {},
   "outputs": [],
   "source": []
  }
 ],
 "metadata": {
  "kernelspec": {
   "display_name": "Python 3",
   "language": "python",
   "name": "python3"
  },
  "language_info": {
   "codemirror_mode": {
    "name": "ipython",
    "version": 3
   },
   "file_extension": ".py",
   "mimetype": "text/x-python",
   "name": "python",
   "nbconvert_exporter": "python",
   "pygments_lexer": "ipython3",
   "version": "3.7.6"
  }
 },
 "nbformat": 4,
 "nbformat_minor": 2
}
